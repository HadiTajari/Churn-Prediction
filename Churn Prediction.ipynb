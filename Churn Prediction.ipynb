{
 "cells": [
  {
   "cell_type": "markdown",
   "id": "b2c0c17b",
   "metadata": {},
   "source": [
    "# Churn Prediction"
   ]
  },
  {
   "cell_type": "markdown",
   "id": "c6dcf00b",
   "metadata": {},
   "source": [
    "Customer attrition or churn, is when customers stop doing business with a company.  It can have a significant impact on a company's revenue and it's crucial for businesses to find out the reasons why customers are leaving and take steps to reduce the number of customers leaving. One way to do this is by identifying customer segments that are at risk of leaving, and implementing retention strategies to keep them. Also, by using data and machine learning techniques, companies can predict which customers are likely to leave in the future and take actions to keep them before they decide to leave.\n",
    "\n",
    "We are going to build a basic model for predicting customer churn using Telco Customer Churn dataset . We are using some classification algorithm to model customers who have left, using Python tools such as pandas for data manipulation and matplotlib for visualizations."
   ]
  },
  {
   "cell_type": "code",
   "execution_count": 1,
   "id": "3fff7bcc",
   "metadata": {},
   "outputs": [],
   "source": [
    "# import libraries\n",
    "import numpy as np\n",
    "import pandas as pd\n",
    "import matplotlib.pyplot as plt\n",
    "import seaborn as sns\n",
    "\n",
    "# data split and preprocessing\n",
    "from sklearn.preprocessing import OneHotEncoder , LabelEncoder\n",
    "from sklearn.impute import KNNImputer, SimpleImputer\n",
    "from sklearn.preprocessing import StandardScaler, Normalizer\n",
    "from sklearn.model_selection import train_test_split, cross_validate, StratifiedKFold\n",
    "from sklearn.metrics import accuracy_score, f1_score, confusion_matrix, auc, roc_auc_score\n",
    "\n",
    "# ML algorithem\n",
    "from sklearn.linear_model import LogisticRegression\n",
    "from sklearn.svm import SVC\n",
    "from sklearn.neighbors import KNeighborsClassifier\n",
    "from sklearn.ensemble import ExtraTreesClassifier, GradientBoostingClassifier, RandomForestClassifier\n",
    "from catboost import CatBoostClassifier\n",
    "from lightgbm import LGBMClassifier\n",
    "from xgboost import XGBClassifier\n",
    "\n",
    "# set seed\n",
    "SEED = 123\n",
    "# filtering warnings\n",
    "import warnings\n",
    "warnings.filterwarnings(\"ignore\")\n",
    "\n",
    "# clear larg output\n",
    "from IPython.display import clear_output\n"
   ]
  },
  {
   "cell_type": "code",
   "execution_count": 2,
   "id": "fa746cbf",
   "metadata": {
    "scrolled": true
   },
   "outputs": [
    {
     "data": {
      "text/html": [
       "<div>\n",
       "<style scoped>\n",
       "    .dataframe tbody tr th:only-of-type {\n",
       "        vertical-align: middle;\n",
       "    }\n",
       "\n",
       "    .dataframe tbody tr th {\n",
       "        vertical-align: top;\n",
       "    }\n",
       "\n",
       "    .dataframe thead th {\n",
       "        text-align: right;\n",
       "    }\n",
       "</style>\n",
       "<table border=\"1\" class=\"dataframe\">\n",
       "  <thead>\n",
       "    <tr style=\"text-align: right;\">\n",
       "      <th></th>\n",
       "      <th>customerID</th>\n",
       "      <th>gender</th>\n",
       "      <th>SeniorCitizen</th>\n",
       "      <th>Partner</th>\n",
       "      <th>Dependents</th>\n",
       "      <th>tenure</th>\n",
       "      <th>PhoneService</th>\n",
       "      <th>MultipleLines</th>\n",
       "      <th>InternetService</th>\n",
       "      <th>OnlineSecurity</th>\n",
       "      <th>...</th>\n",
       "      <th>DeviceProtection</th>\n",
       "      <th>TechSupport</th>\n",
       "      <th>StreamingTV</th>\n",
       "      <th>StreamingMovies</th>\n",
       "      <th>Contract</th>\n",
       "      <th>PaperlessBilling</th>\n",
       "      <th>PaymentMethod</th>\n",
       "      <th>MonthlyCharges</th>\n",
       "      <th>TotalCharges</th>\n",
       "      <th>Churn</th>\n",
       "    </tr>\n",
       "  </thead>\n",
       "  <tbody>\n",
       "    <tr>\n",
       "      <th>0</th>\n",
       "      <td>7590-VHVEG</td>\n",
       "      <td>Female</td>\n",
       "      <td>0</td>\n",
       "      <td>Yes</td>\n",
       "      <td>No</td>\n",
       "      <td>1</td>\n",
       "      <td>No</td>\n",
       "      <td>No phone service</td>\n",
       "      <td>DSL</td>\n",
       "      <td>No</td>\n",
       "      <td>...</td>\n",
       "      <td>No</td>\n",
       "      <td>No</td>\n",
       "      <td>No</td>\n",
       "      <td>No</td>\n",
       "      <td>Month-to-month</td>\n",
       "      <td>Yes</td>\n",
       "      <td>Electronic check</td>\n",
       "      <td>29.85</td>\n",
       "      <td>29.85</td>\n",
       "      <td>No</td>\n",
       "    </tr>\n",
       "    <tr>\n",
       "      <th>1</th>\n",
       "      <td>5575-GNVDE</td>\n",
       "      <td>Male</td>\n",
       "      <td>0</td>\n",
       "      <td>No</td>\n",
       "      <td>No</td>\n",
       "      <td>34</td>\n",
       "      <td>Yes</td>\n",
       "      <td>No</td>\n",
       "      <td>DSL</td>\n",
       "      <td>Yes</td>\n",
       "      <td>...</td>\n",
       "      <td>Yes</td>\n",
       "      <td>No</td>\n",
       "      <td>No</td>\n",
       "      <td>No</td>\n",
       "      <td>One year</td>\n",
       "      <td>No</td>\n",
       "      <td>Mailed check</td>\n",
       "      <td>56.95</td>\n",
       "      <td>1889.5</td>\n",
       "      <td>No</td>\n",
       "    </tr>\n",
       "    <tr>\n",
       "      <th>2</th>\n",
       "      <td>3668-QPYBK</td>\n",
       "      <td>Male</td>\n",
       "      <td>0</td>\n",
       "      <td>No</td>\n",
       "      <td>No</td>\n",
       "      <td>2</td>\n",
       "      <td>Yes</td>\n",
       "      <td>No</td>\n",
       "      <td>DSL</td>\n",
       "      <td>Yes</td>\n",
       "      <td>...</td>\n",
       "      <td>No</td>\n",
       "      <td>No</td>\n",
       "      <td>No</td>\n",
       "      <td>No</td>\n",
       "      <td>Month-to-month</td>\n",
       "      <td>Yes</td>\n",
       "      <td>Mailed check</td>\n",
       "      <td>53.85</td>\n",
       "      <td>108.15</td>\n",
       "      <td>Yes</td>\n",
       "    </tr>\n",
       "    <tr>\n",
       "      <th>3</th>\n",
       "      <td>7795-CFOCW</td>\n",
       "      <td>Male</td>\n",
       "      <td>0</td>\n",
       "      <td>No</td>\n",
       "      <td>No</td>\n",
       "      <td>45</td>\n",
       "      <td>No</td>\n",
       "      <td>No phone service</td>\n",
       "      <td>DSL</td>\n",
       "      <td>Yes</td>\n",
       "      <td>...</td>\n",
       "      <td>Yes</td>\n",
       "      <td>Yes</td>\n",
       "      <td>No</td>\n",
       "      <td>No</td>\n",
       "      <td>One year</td>\n",
       "      <td>No</td>\n",
       "      <td>Bank transfer (automatic)</td>\n",
       "      <td>42.30</td>\n",
       "      <td>1840.75</td>\n",
       "      <td>No</td>\n",
       "    </tr>\n",
       "    <tr>\n",
       "      <th>4</th>\n",
       "      <td>9237-HQITU</td>\n",
       "      <td>Female</td>\n",
       "      <td>0</td>\n",
       "      <td>No</td>\n",
       "      <td>No</td>\n",
       "      <td>2</td>\n",
       "      <td>Yes</td>\n",
       "      <td>No</td>\n",
       "      <td>Fiber optic</td>\n",
       "      <td>No</td>\n",
       "      <td>...</td>\n",
       "      <td>No</td>\n",
       "      <td>No</td>\n",
       "      <td>No</td>\n",
       "      <td>No</td>\n",
       "      <td>Month-to-month</td>\n",
       "      <td>Yes</td>\n",
       "      <td>Electronic check</td>\n",
       "      <td>70.70</td>\n",
       "      <td>151.65</td>\n",
       "      <td>Yes</td>\n",
       "    </tr>\n",
       "  </tbody>\n",
       "</table>\n",
       "<p>5 rows × 21 columns</p>\n",
       "</div>"
      ],
      "text/plain": [
       "   customerID  gender  SeniorCitizen Partner Dependents  tenure PhoneService  \\\n",
       "0  7590-VHVEG  Female              0     Yes         No       1           No   \n",
       "1  5575-GNVDE    Male              0      No         No      34          Yes   \n",
       "2  3668-QPYBK    Male              0      No         No       2          Yes   \n",
       "3  7795-CFOCW    Male              0      No         No      45           No   \n",
       "4  9237-HQITU  Female              0      No         No       2          Yes   \n",
       "\n",
       "      MultipleLines InternetService OnlineSecurity  ... DeviceProtection  \\\n",
       "0  No phone service             DSL             No  ...               No   \n",
       "1                No             DSL            Yes  ...              Yes   \n",
       "2                No             DSL            Yes  ...               No   \n",
       "3  No phone service             DSL            Yes  ...              Yes   \n",
       "4                No     Fiber optic             No  ...               No   \n",
       "\n",
       "  TechSupport StreamingTV StreamingMovies        Contract PaperlessBilling  \\\n",
       "0          No          No              No  Month-to-month              Yes   \n",
       "1          No          No              No        One year               No   \n",
       "2          No          No              No  Month-to-month              Yes   \n",
       "3         Yes          No              No        One year               No   \n",
       "4          No          No              No  Month-to-month              Yes   \n",
       "\n",
       "               PaymentMethod MonthlyCharges  TotalCharges Churn  \n",
       "0           Electronic check          29.85         29.85    No  \n",
       "1               Mailed check          56.95        1889.5    No  \n",
       "2               Mailed check          53.85        108.15   Yes  \n",
       "3  Bank transfer (automatic)          42.30       1840.75    No  \n",
       "4           Electronic check          70.70        151.65   Yes  \n",
       "\n",
       "[5 rows x 21 columns]"
      ]
     },
     "execution_count": 2,
     "metadata": {},
     "output_type": "execute_result"
    }
   ],
   "source": [
    "# import data set\n",
    "df_imbalanced = pd.read_csv(\"WA_Fn-UseC_-Telco-Customer-Churn.csv\")\n",
    "df_imbalanced.head()"
   ]
  },
  {
   "cell_type": "markdown",
   "id": "409659a8",
   "metadata": {},
   "source": [
    "### Data explanation\n",
    "1. customerID=========> Customer identification number\n",
    "2. gender=============> Customer gender\n",
    "3. SeniorCitizen======> Does the customer is a SeniorCitizen or not? (0: No , 1: Yes)\n",
    "4. Partner============> Does the customer have partner or not? (0: No , 1: Yes)\n",
    "5. Dependents=========> Does the customer have partner or not? (0: No , 1: Yes)\n",
    "6. tenure=============> number of mounths the costomer has stayed with the company\n",
    "7. PhoneService=======> Does the customer have PhoneService or not? (No , Yes)\n",
    "8. MultipleLines======> Does the customer have MultipleLines or not? (Yes, No or No phone service)\n",
    "9. InternetService====> Does the customer have InternetService or not?(Fiber optic, DSL or No )\n",
    "10. OnlineSecurity====> Does the customer have OnlineSecurity or not? (Yes, No or No internet service)\n",
    "11. OnlineBackup======> Does the customer have OnlineBackup or not? (Yes, No or No internet service)\n",
    "12. DeviceProtection==> Does the customer have DeviceProtection or not? (Yes, No or No internet service)\n",
    "13. TechSupport=======> Does the customer have TechSupport or not? (Yes, No or No internet service)\n",
    "14. StreamingTV=======> Does the customer have StreamingTV or not? (Yes, No or No internet service)\n",
    "15. StreamingMovies===> Does the customer have StreamingMovies or not? (Yes, No or No internet service)\n",
    "16. Contract==========> Types of contract (Month-to-month, Two year, One year)\n",
    "17. PaperlessBilling==> Does the customer have Paperless Billing or not? (Yes, No)\n",
    "18. PaymentMethod=====> Types of Payment Method (Electronic check, Mailed check, Bank transfer (automatic), Credit card (automatic))\n",
    "19. MonthlyCharges====> The amount charged to the customer in monthly\n",
    "20. TotalCharges======> The total amount charged to the customer\n",
    "21. Churn=============> Is the customer churned? (Yes, No) ( Traget variable)"
   ]
  },
  {
   "cell_type": "code",
   "execution_count": 3,
   "id": "081f414e",
   "metadata": {},
   "outputs": [
    {
     "name": "stdout",
     "output_type": "stream",
     "text": [
      "<class 'pandas.core.frame.DataFrame'>\n",
      "RangeIndex: 7043 entries, 0 to 7042\n",
      "Data columns (total 21 columns):\n",
      " #   Column            Non-Null Count  Dtype  \n",
      "---  ------            --------------  -----  \n",
      " 0   customerID        7043 non-null   object \n",
      " 1   gender            7043 non-null   object \n",
      " 2   SeniorCitizen     7043 non-null   int64  \n",
      " 3   Partner           7043 non-null   object \n",
      " 4   Dependents        7043 non-null   object \n",
      " 5   tenure            7043 non-null   int64  \n",
      " 6   PhoneService      7043 non-null   object \n",
      " 7   MultipleLines     7043 non-null   object \n",
      " 8   InternetService   7043 non-null   object \n",
      " 9   OnlineSecurity    7043 non-null   object \n",
      " 10  OnlineBackup      7043 non-null   object \n",
      " 11  DeviceProtection  7043 non-null   object \n",
      " 12  TechSupport       7043 non-null   object \n",
      " 13  StreamingTV       7043 non-null   object \n",
      " 14  StreamingMovies   7043 non-null   object \n",
      " 15  Contract          7043 non-null   object \n",
      " 16  PaperlessBilling  7043 non-null   object \n",
      " 17  PaymentMethod     7043 non-null   object \n",
      " 18  MonthlyCharges    7043 non-null   float64\n",
      " 19  TotalCharges      7043 non-null   object \n",
      " 20  Churn             7043 non-null   object \n",
      "dtypes: float64(1), int64(2), object(18)\n",
      "memory usage: 1.1+ MB\n"
     ]
    }
   ],
   "source": [
    "df_imbalanced.info()"
   ]
  },
  {
   "cell_type": "code",
   "execution_count": 4,
   "id": "188fb564",
   "metadata": {},
   "outputs": [
    {
     "data": {
      "text/html": [
       "<div>\n",
       "<style scoped>\n",
       "    .dataframe tbody tr th:only-of-type {\n",
       "        vertical-align: middle;\n",
       "    }\n",
       "\n",
       "    .dataframe tbody tr th {\n",
       "        vertical-align: top;\n",
       "    }\n",
       "\n",
       "    .dataframe thead th {\n",
       "        text-align: right;\n",
       "    }\n",
       "</style>\n",
       "<table border=\"1\" class=\"dataframe\">\n",
       "  <thead>\n",
       "    <tr style=\"text-align: right;\">\n",
       "      <th></th>\n",
       "      <th>SeniorCitizen</th>\n",
       "      <th>tenure</th>\n",
       "      <th>MonthlyCharges</th>\n",
       "    </tr>\n",
       "  </thead>\n",
       "  <tbody>\n",
       "    <tr>\n",
       "      <th>count</th>\n",
       "      <td>7043.000000</td>\n",
       "      <td>7043.000000</td>\n",
       "      <td>7043.000000</td>\n",
       "    </tr>\n",
       "    <tr>\n",
       "      <th>mean</th>\n",
       "      <td>0.162147</td>\n",
       "      <td>32.371149</td>\n",
       "      <td>64.761692</td>\n",
       "    </tr>\n",
       "    <tr>\n",
       "      <th>std</th>\n",
       "      <td>0.368612</td>\n",
       "      <td>24.559481</td>\n",
       "      <td>30.090047</td>\n",
       "    </tr>\n",
       "    <tr>\n",
       "      <th>min</th>\n",
       "      <td>0.000000</td>\n",
       "      <td>0.000000</td>\n",
       "      <td>18.250000</td>\n",
       "    </tr>\n",
       "    <tr>\n",
       "      <th>25%</th>\n",
       "      <td>0.000000</td>\n",
       "      <td>9.000000</td>\n",
       "      <td>35.500000</td>\n",
       "    </tr>\n",
       "    <tr>\n",
       "      <th>50%</th>\n",
       "      <td>0.000000</td>\n",
       "      <td>29.000000</td>\n",
       "      <td>70.350000</td>\n",
       "    </tr>\n",
       "    <tr>\n",
       "      <th>75%</th>\n",
       "      <td>0.000000</td>\n",
       "      <td>55.000000</td>\n",
       "      <td>89.850000</td>\n",
       "    </tr>\n",
       "    <tr>\n",
       "      <th>max</th>\n",
       "      <td>1.000000</td>\n",
       "      <td>72.000000</td>\n",
       "      <td>118.750000</td>\n",
       "    </tr>\n",
       "  </tbody>\n",
       "</table>\n",
       "</div>"
      ],
      "text/plain": [
       "       SeniorCitizen       tenure  MonthlyCharges\n",
       "count    7043.000000  7043.000000     7043.000000\n",
       "mean        0.162147    32.371149       64.761692\n",
       "std         0.368612    24.559481       30.090047\n",
       "min         0.000000     0.000000       18.250000\n",
       "25%         0.000000     9.000000       35.500000\n",
       "50%         0.000000    29.000000       70.350000\n",
       "75%         0.000000    55.000000       89.850000\n",
       "max         1.000000    72.000000      118.750000"
      ]
     },
     "execution_count": 4,
     "metadata": {},
     "output_type": "execute_result"
    }
   ],
   "source": [
    "# descriptive of dataset\n",
    "df_imbalanced.describe()"
   ]
  },
  {
   "cell_type": "code",
   "execution_count": 5,
   "id": "98cf37fa",
   "metadata": {},
   "outputs": [
    {
     "data": {
      "text/html": [
       "<div>\n",
       "<style scoped>\n",
       "    .dataframe tbody tr th:only-of-type {\n",
       "        vertical-align: middle;\n",
       "    }\n",
       "\n",
       "    .dataframe tbody tr th {\n",
       "        vertical-align: top;\n",
       "    }\n",
       "\n",
       "    .dataframe thead th {\n",
       "        text-align: right;\n",
       "    }\n",
       "</style>\n",
       "<table border=\"1\" class=\"dataframe\">\n",
       "  <thead>\n",
       "    <tr style=\"text-align: right;\">\n",
       "      <th></th>\n",
       "      <th>customerID</th>\n",
       "      <th>gender</th>\n",
       "      <th>Partner</th>\n",
       "      <th>Dependents</th>\n",
       "      <th>PhoneService</th>\n",
       "      <th>MultipleLines</th>\n",
       "      <th>InternetService</th>\n",
       "      <th>OnlineSecurity</th>\n",
       "      <th>OnlineBackup</th>\n",
       "      <th>DeviceProtection</th>\n",
       "      <th>TechSupport</th>\n",
       "      <th>StreamingTV</th>\n",
       "      <th>StreamingMovies</th>\n",
       "      <th>Contract</th>\n",
       "      <th>PaperlessBilling</th>\n",
       "      <th>PaymentMethod</th>\n",
       "      <th>TotalCharges</th>\n",
       "      <th>Churn</th>\n",
       "    </tr>\n",
       "  </thead>\n",
       "  <tbody>\n",
       "    <tr>\n",
       "      <th>count</th>\n",
       "      <td>7043</td>\n",
       "      <td>7043</td>\n",
       "      <td>7043</td>\n",
       "      <td>7043</td>\n",
       "      <td>7043</td>\n",
       "      <td>7043</td>\n",
       "      <td>7043</td>\n",
       "      <td>7043</td>\n",
       "      <td>7043</td>\n",
       "      <td>7043</td>\n",
       "      <td>7043</td>\n",
       "      <td>7043</td>\n",
       "      <td>7043</td>\n",
       "      <td>7043</td>\n",
       "      <td>7043</td>\n",
       "      <td>7043</td>\n",
       "      <td>7043</td>\n",
       "      <td>7043</td>\n",
       "    </tr>\n",
       "    <tr>\n",
       "      <th>unique</th>\n",
       "      <td>7043</td>\n",
       "      <td>2</td>\n",
       "      <td>2</td>\n",
       "      <td>2</td>\n",
       "      <td>2</td>\n",
       "      <td>3</td>\n",
       "      <td>3</td>\n",
       "      <td>3</td>\n",
       "      <td>3</td>\n",
       "      <td>3</td>\n",
       "      <td>3</td>\n",
       "      <td>3</td>\n",
       "      <td>3</td>\n",
       "      <td>3</td>\n",
       "      <td>2</td>\n",
       "      <td>4</td>\n",
       "      <td>6531</td>\n",
       "      <td>2</td>\n",
       "    </tr>\n",
       "    <tr>\n",
       "      <th>top</th>\n",
       "      <td>7590-VHVEG</td>\n",
       "      <td>Male</td>\n",
       "      <td>No</td>\n",
       "      <td>No</td>\n",
       "      <td>Yes</td>\n",
       "      <td>No</td>\n",
       "      <td>Fiber optic</td>\n",
       "      <td>No</td>\n",
       "      <td>No</td>\n",
       "      <td>No</td>\n",
       "      <td>No</td>\n",
       "      <td>No</td>\n",
       "      <td>No</td>\n",
       "      <td>Month-to-month</td>\n",
       "      <td>Yes</td>\n",
       "      <td>Electronic check</td>\n",
       "      <td></td>\n",
       "      <td>No</td>\n",
       "    </tr>\n",
       "    <tr>\n",
       "      <th>freq</th>\n",
       "      <td>1</td>\n",
       "      <td>3555</td>\n",
       "      <td>3641</td>\n",
       "      <td>4933</td>\n",
       "      <td>6361</td>\n",
       "      <td>3390</td>\n",
       "      <td>3096</td>\n",
       "      <td>3498</td>\n",
       "      <td>3088</td>\n",
       "      <td>3095</td>\n",
       "      <td>3473</td>\n",
       "      <td>2810</td>\n",
       "      <td>2785</td>\n",
       "      <td>3875</td>\n",
       "      <td>4171</td>\n",
       "      <td>2365</td>\n",
       "      <td>11</td>\n",
       "      <td>5174</td>\n",
       "    </tr>\n",
       "  </tbody>\n",
       "</table>\n",
       "</div>"
      ],
      "text/plain": [
       "        customerID gender Partner Dependents PhoneService MultipleLines  \\\n",
       "count         7043   7043    7043       7043         7043          7043   \n",
       "unique        7043      2       2          2            2             3   \n",
       "top     7590-VHVEG   Male      No         No          Yes            No   \n",
       "freq             1   3555    3641       4933         6361          3390   \n",
       "\n",
       "       InternetService OnlineSecurity OnlineBackup DeviceProtection  \\\n",
       "count             7043           7043         7043             7043   \n",
       "unique               3              3            3                3   \n",
       "top        Fiber optic             No           No               No   \n",
       "freq              3096           3498         3088             3095   \n",
       "\n",
       "       TechSupport StreamingTV StreamingMovies        Contract  \\\n",
       "count         7043        7043            7043            7043   \n",
       "unique           3           3               3               3   \n",
       "top             No          No              No  Month-to-month   \n",
       "freq          3473        2810            2785            3875   \n",
       "\n",
       "       PaperlessBilling     PaymentMethod TotalCharges Churn  \n",
       "count              7043              7043         7043  7043  \n",
       "unique                2                 4         6531     2  \n",
       "top                 Yes  Electronic check                 No  \n",
       "freq               4171              2365           11  5174  "
      ]
     },
     "execution_count": 5,
     "metadata": {},
     "output_type": "execute_result"
    }
   ],
   "source": [
    "df_imbalanced.describe(include=\"O\")"
   ]
  },
  {
   "cell_type": "markdown",
   "id": "52d2ecfd",
   "metadata": {},
   "source": [
    "### recognize type of features \n",
    "[  numeric features  and object (categorical. nominal) features]"
   ]
  },
  {
   "cell_type": "code",
   "execution_count": 6,
   "id": "d7416295",
   "metadata": {},
   "outputs": [
    {
     "data": {
      "text/plain": [
       "customerID           object\n",
       "gender               object\n",
       "SeniorCitizen         int64\n",
       "Partner              object\n",
       "Dependents           object\n",
       "tenure                int64\n",
       "PhoneService         object\n",
       "MultipleLines        object\n",
       "InternetService      object\n",
       "OnlineSecurity       object\n",
       "OnlineBackup         object\n",
       "DeviceProtection     object\n",
       "TechSupport          object\n",
       "StreamingTV          object\n",
       "StreamingMovies      object\n",
       "Contract             object\n",
       "PaperlessBilling     object\n",
       "PaymentMethod        object\n",
       "MonthlyCharges      float64\n",
       "TotalCharges         object\n",
       "Churn                object\n",
       "dtype: object"
      ]
     },
     "execution_count": 6,
     "metadata": {},
     "output_type": "execute_result"
    }
   ],
   "source": [
    "df_imbalanced.dtypes"
   ]
  },
  {
   "cell_type": "code",
   "execution_count": 7,
   "id": "a858c6fe",
   "metadata": {
    "scrolled": true
   },
   "outputs": [
    {
     "data": {
      "text/plain": [
       "Index(['customerID', 'gender', 'Partner', 'Dependents', 'PhoneService',\n",
       "       'MultipleLines', 'InternetService', 'OnlineSecurity', 'OnlineBackup',\n",
       "       'DeviceProtection', 'TechSupport', 'StreamingTV', 'StreamingMovies',\n",
       "       'Contract', 'PaperlessBilling', 'PaymentMethod', 'TotalCharges',\n",
       "       'Churn'],\n",
       "      dtype='object')"
      ]
     },
     "execution_count": 7,
     "metadata": {},
     "output_type": "execute_result"
    }
   ],
   "source": [
    "df_imbalanced.select_dtypes(\"O\").columns"
   ]
  },
  {
   "cell_type": "code",
   "execution_count": 8,
   "id": "ecacf66e",
   "metadata": {},
   "outputs": [
    {
     "data": {
      "text/plain": [
       "Churn\n",
       "No     5174\n",
       "Yes    1869\n",
       "dtype: int64"
      ]
     },
     "execution_count": 8,
     "metadata": {},
     "output_type": "execute_result"
    }
   ],
   "source": [
    "# Number of customer churn\n",
    "df_imbalanced.groupby(\"Churn\").size()"
   ]
  },
  {
   "cell_type": "code",
   "execution_count": 9,
   "id": "53d126c1",
   "metadata": {
    "scrolled": true
   },
   "outputs": [
    {
     "data": {
      "text/plain": [
       "No     0.73463\n",
       "Yes    0.26537\n",
       "Name: Churn, dtype: float64"
      ]
     },
     "execution_count": 9,
     "metadata": {},
     "output_type": "execute_result"
    }
   ],
   "source": [
    "# percentage of customer that are leaving\n",
    "df_imbalanced.Churn.value_counts(normalize=True)"
   ]
  },
  {
   "cell_type": "code",
   "execution_count": 10,
   "id": "7b062257",
   "metadata": {},
   "outputs": [
    {
     "data": {
      "text/plain": [
       "<AxesSubplot: xlabel='Churn', ylabel='count'>"
      ]
     },
     "execution_count": 10,
     "metadata": {},
     "output_type": "execute_result"
    },
    {
     "data": {
      "image/png": "[encoded data removed]",
      "text/plain": [
       "<Figure size 600x400 with 1 Axes>"
      ]
     },
     "metadata": {},
     "output_type": "display_data"
    }
   ],
   "source": [
    "plt.figure(figsize=(6,4))\n",
    "sns.countplot(data=df_imbalanced,x= \"Churn\")"
   ]
  },
  {
   "cell_type": "markdown",
   "id": "4abd90ef",
   "metadata": {},
   "source": [
    "### You can see that the percentage of leaving for this company is 26%.\n",
    "Without doing anything special, 74% of customers stay with the company, so we need to build a model that scores higher than 74%"
   ]
  },
  {
   "cell_type": "markdown",
   "id": "4336bffb",
   "metadata": {},
   "source": [
    "## It has been observed that our target class has an imbalance. "
   ]
  },
  {
   "cell_type": "code",
   "execution_count": 11,
   "id": "2381cc75",
   "metadata": {},
   "outputs": [
    {
     "data": {
      "text/plain": [
       "gender\n",
       "Female    3488\n",
       "Male      3555\n",
       "dtype: int64"
      ]
     },
     "execution_count": 11,
     "metadata": {},
     "output_type": "execute_result"
    }
   ],
   "source": [
    "# Gender of customer\n",
    "df_imbalanced.groupby(\"gender\").size()"
   ]
  },
  {
   "cell_type": "code",
   "execution_count": 12,
   "id": "6c0a5cac",
   "metadata": {},
   "outputs": [
    {
     "data": {
      "text/html": [
       "<div>\n",
       "<style scoped>\n",
       "    .dataframe tbody tr th:only-of-type {\n",
       "        vertical-align: middle;\n",
       "    }\n",
       "\n",
       "    .dataframe tbody tr th {\n",
       "        vertical-align: top;\n",
       "    }\n",
       "\n",
       "    .dataframe thead th {\n",
       "        text-align: right;\n",
       "    }\n",
       "</style>\n",
       "<table border=\"1\" class=\"dataframe\">\n",
       "  <thead>\n",
       "    <tr style=\"text-align: right;\">\n",
       "      <th></th>\n",
       "      <th>gender</th>\n",
       "      <th>Churn</th>\n",
       "      <th>0</th>\n",
       "    </tr>\n",
       "  </thead>\n",
       "  <tbody>\n",
       "    <tr>\n",
       "      <th>0</th>\n",
       "      <td>Female</td>\n",
       "      <td>No</td>\n",
       "      <td>2549</td>\n",
       "    </tr>\n",
       "    <tr>\n",
       "      <th>1</th>\n",
       "      <td>Female</td>\n",
       "      <td>Yes</td>\n",
       "      <td>939</td>\n",
       "    </tr>\n",
       "    <tr>\n",
       "      <th>2</th>\n",
       "      <td>Male</td>\n",
       "      <td>No</td>\n",
       "      <td>2625</td>\n",
       "    </tr>\n",
       "    <tr>\n",
       "      <th>3</th>\n",
       "      <td>Male</td>\n",
       "      <td>Yes</td>\n",
       "      <td>930</td>\n",
       "    </tr>\n",
       "  </tbody>\n",
       "</table>\n",
       "</div>"
      ],
      "text/plain": [
       "   gender Churn     0\n",
       "0  Female    No  2549\n",
       "1  Female   Yes   939\n",
       "2    Male    No  2625\n",
       "3    Male   Yes   930"
      ]
     },
     "execution_count": 12,
     "metadata": {},
     "output_type": "execute_result"
    }
   ],
   "source": [
    "# Customer churn by gender\n",
    "df_imbalanced.groupby([\"gender\",\"Churn\"]).size().reset_index()"
   ]
  },
  {
   "cell_type": "code",
   "execution_count": 13,
   "id": "caa21b7c",
   "metadata": {},
   "outputs": [
    {
     "data": {
      "text/plain": [
       "<AxesSubplot: xlabel='gender', ylabel='count'>"
      ]
     },
     "execution_count": 13,
     "metadata": {},
     "output_type": "execute_result"
    },
    {
     "data": {
      "image/png": "[encoded data removed]",
      "text/plain": [
       "<Figure size 600x400 with 1 Axes>"
      ]
     },
     "metadata": {},
     "output_type": "display_data"
    }
   ],
   "source": [
    "plt.figure(figsize=(6,4))\n",
    "sns.countplot(data = df_imbalanced, x =\"gender\" ,hue = \"Churn\")"
   ]
  },
  {
   "cell_type": "code",
   "execution_count": 14,
   "id": "f8020f02",
   "metadata": {},
   "outputs": [
    {
     "data": {
      "text/plain": [
       "Churn  InternetService\n",
       "No     DSL                1962\n",
       "       Fiber optic        1799\n",
       "       No                 1413\n",
       "Yes    DSL                 459\n",
       "       Fiber optic        1297\n",
       "       No                  113\n",
       "dtype: int64"
      ]
     },
     "execution_count": 14,
     "metadata": {},
     "output_type": "execute_result"
    }
   ],
   "source": [
    "# churn count for intenet servise\n",
    "df_imbalanced.groupby([\"Churn\", \"InternetService\"]).size()"
   ]
  },
  {
   "cell_type": "code",
   "execution_count": 15,
   "id": "4197eae4",
   "metadata": {},
   "outputs": [
    {
     "data": {
      "text/plain": [
       "<AxesSubplot: xlabel='Churn', ylabel='count'>"
      ]
     },
     "execution_count": 15,
     "metadata": {},
     "output_type": "execute_result"
    },
    {
     "data": {
      "image/png": "[encoded data removed]",
      "text/plain": [
       "<Figure size 600x400 with 1 Axes>"
      ]
     },
     "metadata": {},
     "output_type": "display_data"
    }
   ],
   "source": [
    "plt.figure(figsize=(6,4))\n",
    "sns.countplot(data=df_imbalanced, x =\"Churn\" , hue=\"InternetService\")"
   ]
  },
  {
   "cell_type": "markdown",
   "id": "3c05f6d8",
   "metadata": {},
   "source": [
    "### Oboservations\n",
    "1. customer who stay with company almost use DSL.\n",
    "2. customer who  churn mostly used Fiber Optic."
   ]
  },
  {
   "cell_type": "code",
   "execution_count": 16,
   "id": "000496ca",
   "metadata": {},
   "outputs": [
    {
     "data": {
      "text/plain": [
       "<AxesSubplot: xlabel='Churn', ylabel='count'>"
      ]
     },
     "execution_count": 16,
     "metadata": {},
     "output_type": "execute_result"
    },
    {
     "data": {
      "image/png": "[encoded data removed]",
      "text/plain": [
       "<Figure size 600x400 with 1 Axes>"
      ]
     },
     "metadata": {},
     "output_type": "display_data"
    }
   ],
   "source": [
    "plt.figure(figsize=(6,4))\n",
    "sns.countplot(data = df_imbalanced, x = \"Churn\", hue = \"Partner\")"
   ]
  },
  {
   "cell_type": "markdown",
   "id": "c9ffeb6b",
   "metadata": {},
   "source": [
    "## Observation\n",
    "1.  The Cuatomer who often left the company almost did not have a partner."
   ]
  },
  {
   "cell_type": "code",
   "execution_count": 17,
   "id": "7773a032",
   "metadata": {},
   "outputs": [],
   "source": [
    "# Distribution of numeric columns for churn"
   ]
  },
  {
   "cell_type": "code",
   "execution_count": 18,
   "id": "2c2ad509",
   "metadata": {},
   "outputs": [
    {
     "data": {
      "text/plain": [
       "array([<AxesSubplot: title={'center': 'tenure'}>,\n",
       "       <AxesSubplot: title={'center': 'MonthlyCharges'}>], dtype=object)"
      ]
     },
     "execution_count": 18,
     "metadata": {},
     "output_type": "execute_result"
    },
    {
     "data": {
      "image/png": "[encoded data removed]",
      "text/plain": [
       "<Figure size 1200x500 with 2 Axes>"
      ]
     },
     "metadata": {},
     "output_type": "display_data"
    }
   ],
   "source": [
    "num_features = [\"tenure\", \"MonthlyCharges\"]\n",
    "fig, ax = plt.subplots(1 , 2, figsize= (12,5))\n",
    "df_imbalanced[df_imbalanced[\"Churn\"]==\"No\"][num_features].hist(bins= 20, color = \"blue\", ax= ax)\n",
    "df_imbalanced[df_imbalanced[\"Churn\"]==\"Yes\"][num_features].hist(bins= 20, color = \"orange\", ax= ax)"
   ]
  },
  {
   "cell_type": "markdown",
   "id": "fb4386b1",
   "metadata": {},
   "source": [
    "### Observation \n",
    "#### The result shows that churn customers end up leaving the company up to 10 months later, and they often pay less than 100 dollar a month."
   ]
  },
  {
   "cell_type": "code",
   "execution_count": 19,
   "id": "f2b8d869",
   "metadata": {},
   "outputs": [
    {
     "data": {
      "text/plain": [
       "<AxesSubplot: xlabel='Churn', ylabel='count'>"
      ]
     },
     "execution_count": 19,
     "metadata": {},
     "output_type": "execute_result"
    },
    {
     "data": {
      "image/png": "[encoded data removed]",
      "text/plain": [
       "<Figure size 640x480 with 1 Axes>"
      ]
     },
     "metadata": {},
     "output_type": "display_data"
    }
   ],
   "source": [
    "# Churn count for Contract types\n",
    "sns.countplot(data=df_imbalanced, x= \"Churn\" , hue = \"Contract\")"
   ]
  },
  {
   "cell_type": "markdown",
   "id": "3e447265",
   "metadata": {},
   "source": [
    "## Data preprocessing"
   ]
  },
  {
   "cell_type": "code",
   "execution_count": 20,
   "id": "82b25f74",
   "metadata": {},
   "outputs": [],
   "source": [
    "# remove unnecessary coulmns\n",
    "df_imbalanced.drop(\"customerID\", axis=1, inplace=True)"
   ]
  },
  {
   "cell_type": "code",
   "execution_count": 21,
   "id": "85fa4dad",
   "metadata": {},
   "outputs": [
    {
     "data": {
      "text/plain": [
       "gender              0\n",
       "SeniorCitizen       0\n",
       "Partner             0\n",
       "Dependents          0\n",
       "tenure              0\n",
       "PhoneService        0\n",
       "MultipleLines       0\n",
       "InternetService     0\n",
       "OnlineSecurity      0\n",
       "OnlineBackup        0\n",
       "DeviceProtection    0\n",
       "TechSupport         0\n",
       "StreamingTV         0\n",
       "StreamingMovies     0\n",
       "Contract            0\n",
       "PaperlessBilling    0\n",
       "PaymentMethod       0\n",
       "MonthlyCharges      0\n",
       "TotalCharges        0\n",
       "Churn               0\n",
       "dtype: int64"
      ]
     },
     "execution_count": 21,
     "metadata": {},
     "output_type": "execute_result"
    }
   ],
   "source": [
    "# checking  null values\n",
    "df_imbalanced.isnull().sum()"
   ]
  },
  {
   "cell_type": "code",
   "execution_count": 22,
   "id": "89b0ec32",
   "metadata": {},
   "outputs": [
    {
     "data": {
      "text/plain": [
       "          11\n",
       "20.2      11\n",
       "19.75      9\n",
       "20.05      8\n",
       "19.9       8\n",
       "          ..\n",
       "6849.4     1\n",
       "692.35     1\n",
       "130.15     1\n",
       "3211.9     1\n",
       "6844.5     1\n",
       "Name: TotalCharges, Length: 6531, dtype: int64"
      ]
     },
     "execution_count": 22,
     "metadata": {},
     "output_type": "execute_result"
    }
   ],
   "source": [
    "df_imbalanced[\"TotalCharges\"].value_counts()"
   ]
  },
  {
   "cell_type": "code",
   "execution_count": 23,
   "id": "42ab69ac",
   "metadata": {},
   "outputs": [],
   "source": [
    "### There are 11 values in the Totalcharges that have ' ', so we reaplace it with np.NaN"
   ]
  },
  {
   "cell_type": "code",
   "execution_count": 24,
   "id": "ec4f976a",
   "metadata": {},
   "outputs": [],
   "source": [
    "df_imbalanced[\"TotalCharges\"]=df_imbalanced[\"TotalCharges\"].replace(' ',np.NaN)"
   ]
  },
  {
   "cell_type": "code",
   "execution_count": 25,
   "id": "44a12e16",
   "metadata": {},
   "outputs": [
    {
     "data": {
      "text/plain": [
       "gender               0\n",
       "SeniorCitizen        0\n",
       "Partner              0\n",
       "Dependents           0\n",
       "tenure               0\n",
       "PhoneService         0\n",
       "MultipleLines        0\n",
       "InternetService      0\n",
       "OnlineSecurity       0\n",
       "OnlineBackup         0\n",
       "DeviceProtection     0\n",
       "TechSupport          0\n",
       "StreamingTV          0\n",
       "StreamingMovies      0\n",
       "Contract             0\n",
       "PaperlessBilling     0\n",
       "PaymentMethod        0\n",
       "MonthlyCharges       0\n",
       "TotalCharges        11\n",
       "Churn                0\n",
       "dtype: int64"
      ]
     },
     "execution_count": 25,
     "metadata": {},
     "output_type": "execute_result"
    }
   ],
   "source": [
    "df_imbalanced.isnull().sum()"
   ]
  },
  {
   "cell_type": "code",
   "execution_count": 26,
   "id": "89d80223",
   "metadata": {},
   "outputs": [],
   "source": [
    "df_imbalanced[\"TotalCharges\"] = df_imbalanced[\"TotalCharges\"].fillna(df_imbalanced[\"TotalCharges\"].median())"
   ]
  },
  {
   "cell_type": "code",
   "execution_count": 27,
   "id": "6ccbb88f",
   "metadata": {},
   "outputs": [
    {
     "data": {
      "text/plain": [
       "gender              0\n",
       "SeniorCitizen       0\n",
       "Partner             0\n",
       "Dependents          0\n",
       "tenure              0\n",
       "PhoneService        0\n",
       "MultipleLines       0\n",
       "InternetService     0\n",
       "OnlineSecurity      0\n",
       "OnlineBackup        0\n",
       "DeviceProtection    0\n",
       "TechSupport         0\n",
       "StreamingTV         0\n",
       "StreamingMovies     0\n",
       "Contract            0\n",
       "PaperlessBilling    0\n",
       "PaymentMethod       0\n",
       "MonthlyCharges      0\n",
       "TotalCharges        0\n",
       "Churn               0\n",
       "dtype: int64"
      ]
     },
     "execution_count": 27,
     "metadata": {},
     "output_type": "execute_result"
    }
   ],
   "source": [
    "df_imbalanced.isnull().sum()"
   ]
  },
  {
   "cell_type": "code",
   "execution_count": 28,
   "id": "89a1c1e4",
   "metadata": {},
   "outputs": [],
   "source": [
    "df_imbalanced[\"TotalCharges\"] = df_imbalanced[\"TotalCharges\"].astype(\"float64\")"
   ]
  },
  {
   "cell_type": "code",
   "execution_count": 29,
   "id": "b5fbf312",
   "metadata": {},
   "outputs": [],
   "source": [
    "# Convert all of the non-numeric to numeric\n",
    "for column in df_imbalanced.columns:\n",
    "    if df_imbalanced[column].dtypes == np.number:\n",
    "        continue\n",
    "    df_imbalanced[column] = LabelEncoder().fit_transform(df_imbalanced[column])"
   ]
  },
  {
   "cell_type": "code",
   "execution_count": 30,
   "id": "e8e8a9fd",
   "metadata": {},
   "outputs": [
    {
     "data": {
      "text/plain": [
       "gender                int32\n",
       "SeniorCitizen         int64\n",
       "Partner               int32\n",
       "Dependents            int32\n",
       "tenure                int64\n",
       "PhoneService          int32\n",
       "MultipleLines         int32\n",
       "InternetService       int32\n",
       "OnlineSecurity        int32\n",
       "OnlineBackup          int32\n",
       "DeviceProtection      int32\n",
       "TechSupport           int32\n",
       "StreamingTV           int32\n",
       "StreamingMovies       int32\n",
       "Contract              int32\n",
       "PaperlessBilling      int32\n",
       "PaymentMethod         int32\n",
       "MonthlyCharges      float64\n",
       "TotalCharges        float64\n",
       "Churn                 int32\n",
       "dtype: object"
      ]
     },
     "execution_count": 30,
     "metadata": {},
     "output_type": "execute_result"
    }
   ],
   "source": [
    "df_imbalanced.dtypes"
   ]
  },
  {
   "cell_type": "code",
   "execution_count": 31,
   "id": "df07d093",
   "metadata": {},
   "outputs": [
    {
     "data": {
      "text/html": [
       "<div>\n",
       "<style scoped>\n",
       "    .dataframe tbody tr th:only-of-type {\n",
       "        vertical-align: middle;\n",
       "    }\n",
       "\n",
       "    .dataframe tbody tr th {\n",
       "        vertical-align: top;\n",
       "    }\n",
       "\n",
       "    .dataframe thead th {\n",
       "        text-align: right;\n",
       "    }\n",
       "</style>\n",
       "<table border=\"1\" class=\"dataframe\">\n",
       "  <thead>\n",
       "    <tr style=\"text-align: right;\">\n",
       "      <th></th>\n",
       "      <th>gender</th>\n",
       "      <th>SeniorCitizen</th>\n",
       "      <th>Partner</th>\n",
       "      <th>Dependents</th>\n",
       "      <th>tenure</th>\n",
       "      <th>PhoneService</th>\n",
       "      <th>MultipleLines</th>\n",
       "      <th>InternetService</th>\n",
       "      <th>OnlineSecurity</th>\n",
       "      <th>OnlineBackup</th>\n",
       "      <th>DeviceProtection</th>\n",
       "      <th>TechSupport</th>\n",
       "      <th>StreamingTV</th>\n",
       "      <th>StreamingMovies</th>\n",
       "      <th>Contract</th>\n",
       "      <th>PaperlessBilling</th>\n",
       "      <th>PaymentMethod</th>\n",
       "      <th>MonthlyCharges</th>\n",
       "      <th>TotalCharges</th>\n",
       "      <th>Churn</th>\n",
       "    </tr>\n",
       "  </thead>\n",
       "  <tbody>\n",
       "    <tr>\n",
       "      <th>0</th>\n",
       "      <td>0</td>\n",
       "      <td>0</td>\n",
       "      <td>1</td>\n",
       "      <td>0</td>\n",
       "      <td>1</td>\n",
       "      <td>0</td>\n",
       "      <td>1</td>\n",
       "      <td>0</td>\n",
       "      <td>0</td>\n",
       "      <td>2</td>\n",
       "      <td>0</td>\n",
       "      <td>0</td>\n",
       "      <td>0</td>\n",
       "      <td>0</td>\n",
       "      <td>0</td>\n",
       "      <td>1</td>\n",
       "      <td>2</td>\n",
       "      <td>29.85</td>\n",
       "      <td>29.85</td>\n",
       "      <td>0</td>\n",
       "    </tr>\n",
       "    <tr>\n",
       "      <th>1</th>\n",
       "      <td>1</td>\n",
       "      <td>0</td>\n",
       "      <td>0</td>\n",
       "      <td>0</td>\n",
       "      <td>34</td>\n",
       "      <td>1</td>\n",
       "      <td>0</td>\n",
       "      <td>0</td>\n",
       "      <td>2</td>\n",
       "      <td>0</td>\n",
       "      <td>2</td>\n",
       "      <td>0</td>\n",
       "      <td>0</td>\n",
       "      <td>0</td>\n",
       "      <td>1</td>\n",
       "      <td>0</td>\n",
       "      <td>3</td>\n",
       "      <td>56.95</td>\n",
       "      <td>1889.50</td>\n",
       "      <td>0</td>\n",
       "    </tr>\n",
       "    <tr>\n",
       "      <th>2</th>\n",
       "      <td>1</td>\n",
       "      <td>0</td>\n",
       "      <td>0</td>\n",
       "      <td>0</td>\n",
       "      <td>2</td>\n",
       "      <td>1</td>\n",
       "      <td>0</td>\n",
       "      <td>0</td>\n",
       "      <td>2</td>\n",
       "      <td>2</td>\n",
       "      <td>0</td>\n",
       "      <td>0</td>\n",
       "      <td>0</td>\n",
       "      <td>0</td>\n",
       "      <td>0</td>\n",
       "      <td>1</td>\n",
       "      <td>3</td>\n",
       "      <td>53.85</td>\n",
       "      <td>108.15</td>\n",
       "      <td>1</td>\n",
       "    </tr>\n",
       "    <tr>\n",
       "      <th>3</th>\n",
       "      <td>1</td>\n",
       "      <td>0</td>\n",
       "      <td>0</td>\n",
       "      <td>0</td>\n",
       "      <td>45</td>\n",
       "      <td>0</td>\n",
       "      <td>1</td>\n",
       "      <td>0</td>\n",
       "      <td>2</td>\n",
       "      <td>0</td>\n",
       "      <td>2</td>\n",
       "      <td>2</td>\n",
       "      <td>0</td>\n",
       "      <td>0</td>\n",
       "      <td>1</td>\n",
       "      <td>0</td>\n",
       "      <td>0</td>\n",
       "      <td>42.30</td>\n",
       "      <td>1840.75</td>\n",
       "      <td>0</td>\n",
       "    </tr>\n",
       "    <tr>\n",
       "      <th>4</th>\n",
       "      <td>0</td>\n",
       "      <td>0</td>\n",
       "      <td>0</td>\n",
       "      <td>0</td>\n",
       "      <td>2</td>\n",
       "      <td>1</td>\n",
       "      <td>0</td>\n",
       "      <td>1</td>\n",
       "      <td>0</td>\n",
       "      <td>0</td>\n",
       "      <td>0</td>\n",
       "      <td>0</td>\n",
       "      <td>0</td>\n",
       "      <td>0</td>\n",
       "      <td>0</td>\n",
       "      <td>1</td>\n",
       "      <td>2</td>\n",
       "      <td>70.70</td>\n",
       "      <td>151.65</td>\n",
       "      <td>1</td>\n",
       "    </tr>\n",
       "  </tbody>\n",
       "</table>\n",
       "</div>"
      ],
      "text/plain": [
       "   gender  SeniorCitizen  Partner  Dependents  tenure  PhoneService  \\\n",
       "0       0              0        1           0       1             0   \n",
       "1       1              0        0           0      34             1   \n",
       "2       1              0        0           0       2             1   \n",
       "3       1              0        0           0      45             0   \n",
       "4       0              0        0           0       2             1   \n",
       "\n",
       "   MultipleLines  InternetService  OnlineSecurity  OnlineBackup  \\\n",
       "0              1                0               0             2   \n",
       "1              0                0               2             0   \n",
       "2              0                0               2             2   \n",
       "3              1                0               2             0   \n",
       "4              0                1               0             0   \n",
       "\n",
       "   DeviceProtection  TechSupport  StreamingTV  StreamingMovies  Contract  \\\n",
       "0                 0            0            0                0         0   \n",
       "1                 2            0            0                0         1   \n",
       "2                 0            0            0                0         0   \n",
       "3                 2            2            0                0         1   \n",
       "4                 0            0            0                0         0   \n",
       "\n",
       "   PaperlessBilling  PaymentMethod  MonthlyCharges  TotalCharges  Churn  \n",
       "0                 1              2           29.85         29.85      0  \n",
       "1                 0              3           56.95       1889.50      0  \n",
       "2                 1              3           53.85        108.15      1  \n",
       "3                 0              0           42.30       1840.75      0  \n",
       "4                 1              2           70.70        151.65      1  "
      ]
     },
     "execution_count": 31,
     "metadata": {},
     "output_type": "execute_result"
    }
   ],
   "source": [
    "df_imbalanced.head()"
   ]
  },
  {
   "cell_type": "code",
   "execution_count": 32,
   "id": "6e3c1548",
   "metadata": {},
   "outputs": [],
   "source": [
    "df_copy = df_imbalanced.copy()"
   ]
  },
  {
   "cell_type": "code",
   "execution_count": 33,
   "id": "1237af43",
   "metadata": {},
   "outputs": [],
   "source": [
    "X = df_copy.drop(\"Churn\", axis=1)\n",
    "y = df_copy[\"Churn\"]"
   ]
  },
  {
   "cell_type": "markdown",
   "id": "732b84ba",
   "metadata": {},
   "source": [
    "## Handeling imbalanced Datasets"
   ]
  },
  {
   "cell_type": "markdown",
   "id": "430dc8b4",
   "metadata": {},
   "source": [
    "### As seen, our target variable has imbalance. Therefore, we must solve this problem"
   ]
  },
  {
   "cell_type": "markdown",
   "id": "d98cba8e",
   "metadata": {},
   "source": [
    "SMOTE is one of technique to oversample the minority class. Simply adding duplicate records of minority class often don’t add any new information to the model. In SMOTE new instances are synthesized from the existing data. If we explain it in simple words, SMOTE looks into minority class instances and use k nearest neighbor to select a random nearest neighbor, and a synthetic instance is created randomly in feature space."
   ]
  },
  {
   "cell_type": "code",
   "execution_count": 34,
   "id": "1cf85f7a",
   "metadata": {},
   "outputs": [],
   "source": [
    "from imblearn.over_sampling import SMOTE"
   ]
  },
  {
   "cell_type": "code",
   "execution_count": 35,
   "id": "49708955",
   "metadata": {},
   "outputs": [],
   "source": [
    "# Resampling the minority class. The strategy can be changed as required.\n",
    "sm = SMOTE(sampling_strategy='minority', random_state=SEED)"
   ]
  },
  {
   "cell_type": "code",
   "execution_count": 36,
   "id": "0e078e34",
   "metadata": {},
   "outputs": [],
   "source": [
    "# Fit the model to generate the data.\n",
    "X_sm, y_sm = sm.fit_resample(X, y)"
   ]
  },
  {
   "cell_type": "code",
   "execution_count": 37,
   "id": "d5ac3e08",
   "metadata": {
    "scrolled": true
   },
   "outputs": [
    {
     "data": {
      "text/html": [
       "<div>\n",
       "<style scoped>\n",
       "    .dataframe tbody tr th:only-of-type {\n",
       "        vertical-align: middle;\n",
       "    }\n",
       "\n",
       "    .dataframe tbody tr th {\n",
       "        vertical-align: top;\n",
       "    }\n",
       "\n",
       "    .dataframe thead th {\n",
       "        text-align: right;\n",
       "    }\n",
       "</style>\n",
       "<table border=\"1\" class=\"dataframe\">\n",
       "  <thead>\n",
       "    <tr style=\"text-align: right;\">\n",
       "      <th></th>\n",
       "      <th>gender</th>\n",
       "      <th>SeniorCitizen</th>\n",
       "      <th>Partner</th>\n",
       "      <th>Dependents</th>\n",
       "      <th>tenure</th>\n",
       "      <th>PhoneService</th>\n",
       "      <th>MultipleLines</th>\n",
       "      <th>InternetService</th>\n",
       "      <th>OnlineSecurity</th>\n",
       "      <th>OnlineBackup</th>\n",
       "      <th>DeviceProtection</th>\n",
       "      <th>TechSupport</th>\n",
       "      <th>StreamingTV</th>\n",
       "      <th>StreamingMovies</th>\n",
       "      <th>Contract</th>\n",
       "      <th>PaperlessBilling</th>\n",
       "      <th>PaymentMethod</th>\n",
       "      <th>MonthlyCharges</th>\n",
       "      <th>TotalCharges</th>\n",
       "      <th>Churn</th>\n",
       "    </tr>\n",
       "  </thead>\n",
       "  <tbody>\n",
       "    <tr>\n",
       "      <th>0</th>\n",
       "      <td>0</td>\n",
       "      <td>0</td>\n",
       "      <td>1</td>\n",
       "      <td>0</td>\n",
       "      <td>1</td>\n",
       "      <td>0</td>\n",
       "      <td>1</td>\n",
       "      <td>0</td>\n",
       "      <td>0</td>\n",
       "      <td>2</td>\n",
       "      <td>0</td>\n",
       "      <td>0</td>\n",
       "      <td>0</td>\n",
       "      <td>0</td>\n",
       "      <td>0</td>\n",
       "      <td>1</td>\n",
       "      <td>2</td>\n",
       "      <td>29.85</td>\n",
       "      <td>29.85</td>\n",
       "      <td>0</td>\n",
       "    </tr>\n",
       "    <tr>\n",
       "      <th>1</th>\n",
       "      <td>1</td>\n",
       "      <td>0</td>\n",
       "      <td>0</td>\n",
       "      <td>0</td>\n",
       "      <td>34</td>\n",
       "      <td>1</td>\n",
       "      <td>0</td>\n",
       "      <td>0</td>\n",
       "      <td>2</td>\n",
       "      <td>0</td>\n",
       "      <td>2</td>\n",
       "      <td>0</td>\n",
       "      <td>0</td>\n",
       "      <td>0</td>\n",
       "      <td>1</td>\n",
       "      <td>0</td>\n",
       "      <td>3</td>\n",
       "      <td>56.95</td>\n",
       "      <td>1889.50</td>\n",
       "      <td>0</td>\n",
       "    </tr>\n",
       "    <tr>\n",
       "      <th>2</th>\n",
       "      <td>1</td>\n",
       "      <td>0</td>\n",
       "      <td>0</td>\n",
       "      <td>0</td>\n",
       "      <td>2</td>\n",
       "      <td>1</td>\n",
       "      <td>0</td>\n",
       "      <td>0</td>\n",
       "      <td>2</td>\n",
       "      <td>2</td>\n",
       "      <td>0</td>\n",
       "      <td>0</td>\n",
       "      <td>0</td>\n",
       "      <td>0</td>\n",
       "      <td>0</td>\n",
       "      <td>1</td>\n",
       "      <td>3</td>\n",
       "      <td>53.85</td>\n",
       "      <td>108.15</td>\n",
       "      <td>1</td>\n",
       "    </tr>\n",
       "    <tr>\n",
       "      <th>3</th>\n",
       "      <td>1</td>\n",
       "      <td>0</td>\n",
       "      <td>0</td>\n",
       "      <td>0</td>\n",
       "      <td>45</td>\n",
       "      <td>0</td>\n",
       "      <td>1</td>\n",
       "      <td>0</td>\n",
       "      <td>2</td>\n",
       "      <td>0</td>\n",
       "      <td>2</td>\n",
       "      <td>2</td>\n",
       "      <td>0</td>\n",
       "      <td>0</td>\n",
       "      <td>1</td>\n",
       "      <td>0</td>\n",
       "      <td>0</td>\n",
       "      <td>42.30</td>\n",
       "      <td>1840.75</td>\n",
       "      <td>0</td>\n",
       "    </tr>\n",
       "    <tr>\n",
       "      <th>4</th>\n",
       "      <td>0</td>\n",
       "      <td>0</td>\n",
       "      <td>0</td>\n",
       "      <td>0</td>\n",
       "      <td>2</td>\n",
       "      <td>1</td>\n",
       "      <td>0</td>\n",
       "      <td>1</td>\n",
       "      <td>0</td>\n",
       "      <td>0</td>\n",
       "      <td>0</td>\n",
       "      <td>0</td>\n",
       "      <td>0</td>\n",
       "      <td>0</td>\n",
       "      <td>0</td>\n",
       "      <td>1</td>\n",
       "      <td>2</td>\n",
       "      <td>70.70</td>\n",
       "      <td>151.65</td>\n",
       "      <td>1</td>\n",
       "    </tr>\n",
       "  </tbody>\n",
       "</table>\n",
       "</div>"
      ],
      "text/plain": [
       "   gender  SeniorCitizen  Partner  Dependents  tenure  PhoneService  \\\n",
       "0       0              0        1           0       1             0   \n",
       "1       1              0        0           0      34             1   \n",
       "2       1              0        0           0       2             1   \n",
       "3       1              0        0           0      45             0   \n",
       "4       0              0        0           0       2             1   \n",
       "\n",
       "   MultipleLines  InternetService  OnlineSecurity  OnlineBackup  \\\n",
       "0              1                0               0             2   \n",
       "1              0                0               2             0   \n",
       "2              0                0               2             2   \n",
       "3              1                0               2             0   \n",
       "4              0                1               0             0   \n",
       "\n",
       "   DeviceProtection  TechSupport  StreamingTV  StreamingMovies  Contract  \\\n",
       "0                 0            0            0                0         0   \n",
       "1                 2            0            0                0         1   \n",
       "2                 0            0            0                0         0   \n",
       "3                 2            2            0                0         1   \n",
       "4                 0            0            0                0         0   \n",
       "\n",
       "   PaperlessBilling  PaymentMethod  MonthlyCharges  TotalCharges  Churn  \n",
       "0                 1              2           29.85         29.85      0  \n",
       "1                 0              3           56.95       1889.50      0  \n",
       "2                 1              3           53.85        108.15      1  \n",
       "3                 0              0           42.30       1840.75      0  \n",
       "4                 1              2           70.70        151.65      1  "
      ]
     },
     "execution_count": 37,
     "metadata": {},
     "output_type": "execute_result"
    }
   ],
   "source": [
    "df = pd.concat([pd.DataFrame(X_sm), pd.DataFrame(y_sm)], axis=1)\n",
    "df.head()"
   ]
  },
  {
   "cell_type": "code",
   "execution_count": 38,
   "id": "5e5d8564",
   "metadata": {},
   "outputs": [
    {
     "data": {
      "text/plain": [
       "(10348, 20)"
      ]
     },
     "execution_count": 38,
     "metadata": {},
     "output_type": "execute_result"
    }
   ],
   "source": [
    "df.shape"
   ]
  },
  {
   "cell_type": "code",
   "execution_count": 39,
   "id": "2fe6139d",
   "metadata": {},
   "outputs": [
    {
     "data": {
      "text/plain": [
       "0    0.5\n",
       "1    0.5\n",
       "Name: Churn, dtype: float64"
      ]
     },
     "execution_count": 39,
     "metadata": {},
     "output_type": "execute_result"
    }
   ],
   "source": [
    "df.Churn.value_counts(normalize=True)"
   ]
  },
  {
   "cell_type": "code",
   "execution_count": 40,
   "id": "fd63f78d",
   "metadata": {},
   "outputs": [],
   "source": [
    "X = df.drop(\"Churn\", axis=1)\n",
    "y = df[\"Churn\"]"
   ]
  },
  {
   "cell_type": "code",
   "execution_count": 41,
   "id": "42898cdd",
   "metadata": {},
   "outputs": [],
   "source": [
    "# Scaling the data set\n",
    "st = StandardScaler()\n",
    "df_st = st.fit_transform(X)"
   ]
  },
  {
   "cell_type": "code",
   "execution_count": 42,
   "id": "7f8c4b8c",
   "metadata": {},
   "outputs": [],
   "source": [
    "# Scaling the data set\n",
    "scale_col = [\"tenure\", \"MonthlyCharges\", \"TotalCharges\"]\n",
    "norm = Normalizer()\n",
    "df[scale_col] = norm.fit_transform(df[scale_col])"
   ]
  },
  {
   "cell_type": "code",
   "execution_count": 43,
   "id": "13bc3668",
   "metadata": {},
   "outputs": [
    {
     "data": {
      "text/html": [
       "<div>\n",
       "<style scoped>\n",
       "    .dataframe tbody tr th:only-of-type {\n",
       "        vertical-align: middle;\n",
       "    }\n",
       "\n",
       "    .dataframe tbody tr th {\n",
       "        vertical-align: top;\n",
       "    }\n",
       "\n",
       "    .dataframe thead th {\n",
       "        text-align: right;\n",
       "    }\n",
       "</style>\n",
       "<table border=\"1\" class=\"dataframe\">\n",
       "  <thead>\n",
       "    <tr style=\"text-align: right;\">\n",
       "      <th></th>\n",
       "      <th>0</th>\n",
       "      <th>1</th>\n",
       "      <th>2</th>\n",
       "      <th>3</th>\n",
       "      <th>4</th>\n",
       "      <th>5</th>\n",
       "      <th>6</th>\n",
       "      <th>7</th>\n",
       "      <th>8</th>\n",
       "      <th>9</th>\n",
       "      <th>10</th>\n",
       "      <th>11</th>\n",
       "      <th>12</th>\n",
       "      <th>13</th>\n",
       "      <th>14</th>\n",
       "      <th>15</th>\n",
       "      <th>16</th>\n",
       "      <th>17</th>\n",
       "      <th>18</th>\n",
       "    </tr>\n",
       "  </thead>\n",
       "  <tbody>\n",
       "    <tr>\n",
       "      <th>0</th>\n",
       "      <td>-0.873076</td>\n",
       "      <td>-0.39995</td>\n",
       "      <td>1.290329</td>\n",
       "      <td>-0.523667</td>\n",
       "      <td>-1.109340</td>\n",
       "      <td>-2.969484</td>\n",
       "      <td>0.095320</td>\n",
       "      <td>-1.246539</td>\n",
       "      <td>-0.753230</td>\n",
       "      <td>1.445285</td>\n",
       "      <td>-0.893623</td>\n",
       "      <td>-0.762387</td>\n",
       "      <td>-1.032258</td>\n",
       "      <td>-1.038461</td>\n",
       "      <td>-0.640099</td>\n",
       "      <td>0.833336</td>\n",
       "      <td>0.445942</td>\n",
       "      <td>-1.333860</td>\n",
       "      <td>-0.923346</td>\n",
       "    </tr>\n",
       "    <tr>\n",
       "      <th>1</th>\n",
       "      <td>1.145376</td>\n",
       "      <td>-0.39995</td>\n",
       "      <td>-0.774996</td>\n",
       "      <td>-0.523667</td>\n",
       "      <td>0.271362</td>\n",
       "      <td>0.336759</td>\n",
       "      <td>-0.983858</td>\n",
       "      <td>-1.246539</td>\n",
       "      <td>1.729862</td>\n",
       "      <td>-0.886278</td>\n",
       "      <td>1.444483</td>\n",
       "      <td>-0.762387</td>\n",
       "      <td>-1.032258</td>\n",
       "      <td>-1.038461</td>\n",
       "      <td>0.672574</td>\n",
       "      <td>-1.199996</td>\n",
       "      <td>1.449991</td>\n",
       "      <td>-0.387344</td>\n",
       "      <td>-0.065655</td>\n",
       "    </tr>\n",
       "    <tr>\n",
       "      <th>2</th>\n",
       "      <td>1.145376</td>\n",
       "      <td>-0.39995</td>\n",
       "      <td>-0.774996</td>\n",
       "      <td>-0.523667</td>\n",
       "      <td>-1.067500</td>\n",
       "      <td>0.336759</td>\n",
       "      <td>-0.983858</td>\n",
       "      <td>-1.246539</td>\n",
       "      <td>1.729862</td>\n",
       "      <td>1.445285</td>\n",
       "      <td>-0.893623</td>\n",
       "      <td>-0.762387</td>\n",
       "      <td>-1.032258</td>\n",
       "      <td>-1.038461</td>\n",
       "      <td>-0.640099</td>\n",
       "      <td>0.833336</td>\n",
       "      <td>1.449991</td>\n",
       "      <td>-0.495617</td>\n",
       "      <td>-0.887233</td>\n",
       "    </tr>\n",
       "    <tr>\n",
       "      <th>3</th>\n",
       "      <td>1.145376</td>\n",
       "      <td>-0.39995</td>\n",
       "      <td>-0.774996</td>\n",
       "      <td>-0.523667</td>\n",
       "      <td>0.731596</td>\n",
       "      <td>-2.969484</td>\n",
       "      <td>0.095320</td>\n",
       "      <td>-1.246539</td>\n",
       "      <td>1.729862</td>\n",
       "      <td>-0.886278</td>\n",
       "      <td>1.444483</td>\n",
       "      <td>1.707613</td>\n",
       "      <td>-1.032258</td>\n",
       "      <td>-1.038461</td>\n",
       "      <td>0.672574</td>\n",
       "      <td>-1.199996</td>\n",
       "      <td>-1.562155</td>\n",
       "      <td>-0.899021</td>\n",
       "      <td>-0.088139</td>\n",
       "    </tr>\n",
       "    <tr>\n",
       "      <th>4</th>\n",
       "      <td>-0.873076</td>\n",
       "      <td>-0.39995</td>\n",
       "      <td>-0.774996</td>\n",
       "      <td>-0.523667</td>\n",
       "      <td>-1.067500</td>\n",
       "      <td>0.336759</td>\n",
       "      <td>-0.983858</td>\n",
       "      <td>0.233404</td>\n",
       "      <td>-0.753230</td>\n",
       "      <td>-0.886278</td>\n",
       "      <td>-0.893623</td>\n",
       "      <td>-0.762387</td>\n",
       "      <td>-1.032258</td>\n",
       "      <td>-1.038461</td>\n",
       "      <td>-0.640099</td>\n",
       "      <td>0.833336</td>\n",
       "      <td>0.445942</td>\n",
       "      <td>0.092900</td>\n",
       "      <td>-0.867170</td>\n",
       "    </tr>\n",
       "    <tr>\n",
       "      <th>...</th>\n",
       "      <td>...</td>\n",
       "      <td>...</td>\n",
       "      <td>...</td>\n",
       "      <td>...</td>\n",
       "      <td>...</td>\n",
       "      <td>...</td>\n",
       "      <td>...</td>\n",
       "      <td>...</td>\n",
       "      <td>...</td>\n",
       "      <td>...</td>\n",
       "      <td>...</td>\n",
       "      <td>...</td>\n",
       "      <td>...</td>\n",
       "      <td>...</td>\n",
       "      <td>...</td>\n",
       "      <td>...</td>\n",
       "      <td>...</td>\n",
       "      <td>...</td>\n",
       "      <td>...</td>\n",
       "    </tr>\n",
       "    <tr>\n",
       "      <th>10343</th>\n",
       "      <td>1.145376</td>\n",
       "      <td>-0.39995</td>\n",
       "      <td>1.290329</td>\n",
       "      <td>-0.523667</td>\n",
       "      <td>-0.941982</td>\n",
       "      <td>0.336759</td>\n",
       "      <td>1.174497</td>\n",
       "      <td>0.233404</td>\n",
       "      <td>-0.753230</td>\n",
       "      <td>1.445285</td>\n",
       "      <td>-0.893623</td>\n",
       "      <td>-0.762387</td>\n",
       "      <td>-1.032258</td>\n",
       "      <td>-1.038461</td>\n",
       "      <td>-0.640099</td>\n",
       "      <td>0.833336</td>\n",
       "      <td>0.445942</td>\n",
       "      <td>0.433778</td>\n",
       "      <td>-0.745749</td>\n",
       "    </tr>\n",
       "    <tr>\n",
       "      <th>10344</th>\n",
       "      <td>-0.873076</td>\n",
       "      <td>-0.39995</td>\n",
       "      <td>-0.774996</td>\n",
       "      <td>-0.523667</td>\n",
       "      <td>-1.025661</td>\n",
       "      <td>0.336759</td>\n",
       "      <td>-0.983858</td>\n",
       "      <td>0.233404</td>\n",
       "      <td>-0.753230</td>\n",
       "      <td>-0.886278</td>\n",
       "      <td>-0.893623</td>\n",
       "      <td>-0.762387</td>\n",
       "      <td>0.095228</td>\n",
       "      <td>-1.038461</td>\n",
       "      <td>-0.640099</td>\n",
       "      <td>-1.199996</td>\n",
       "      <td>-0.558107</td>\n",
       "      <td>0.355682</td>\n",
       "      <td>-0.813339</td>\n",
       "    </tr>\n",
       "    <tr>\n",
       "      <th>10345</th>\n",
       "      <td>-0.873076</td>\n",
       "      <td>-0.39995</td>\n",
       "      <td>1.290329</td>\n",
       "      <td>-0.523667</td>\n",
       "      <td>-0.398069</td>\n",
       "      <td>0.336759</td>\n",
       "      <td>0.095320</td>\n",
       "      <td>0.233404</td>\n",
       "      <td>0.488316</td>\n",
       "      <td>-0.886278</td>\n",
       "      <td>0.275430</td>\n",
       "      <td>-0.762387</td>\n",
       "      <td>-1.032258</td>\n",
       "      <td>-1.038461</td>\n",
       "      <td>-0.640099</td>\n",
       "      <td>0.833336</td>\n",
       "      <td>-1.562155</td>\n",
       "      <td>0.414169</td>\n",
       "      <td>-0.260889</td>\n",
       "    </tr>\n",
       "    <tr>\n",
       "      <th>10346</th>\n",
       "      <td>-0.873076</td>\n",
       "      <td>-0.39995</td>\n",
       "      <td>-0.774996</td>\n",
       "      <td>-0.523667</td>\n",
       "      <td>0.145844</td>\n",
       "      <td>0.336759</td>\n",
       "      <td>1.174497</td>\n",
       "      <td>0.233404</td>\n",
       "      <td>-0.753230</td>\n",
       "      <td>-0.886278</td>\n",
       "      <td>-0.893623</td>\n",
       "      <td>-0.762387</td>\n",
       "      <td>-1.032258</td>\n",
       "      <td>0.086421</td>\n",
       "      <td>-0.640099</td>\n",
       "      <td>-1.199996</td>\n",
       "      <td>-0.558107</td>\n",
       "      <td>0.719367</td>\n",
       "      <td>0.331806</td>\n",
       "    </tr>\n",
       "    <tr>\n",
       "      <th>10347</th>\n",
       "      <td>-0.873076</td>\n",
       "      <td>-0.39995</td>\n",
       "      <td>-0.774996</td>\n",
       "      <td>-0.523667</td>\n",
       "      <td>-1.025661</td>\n",
       "      <td>0.336759</td>\n",
       "      <td>-0.983858</td>\n",
       "      <td>-1.246539</td>\n",
       "      <td>-0.753230</td>\n",
       "      <td>-0.886278</td>\n",
       "      <td>-0.893623</td>\n",
       "      <td>-0.762387</td>\n",
       "      <td>-1.032258</td>\n",
       "      <td>0.086421</td>\n",
       "      <td>-0.640099</td>\n",
       "      <td>-1.199996</td>\n",
       "      <td>-0.558107</td>\n",
       "      <td>-0.466280</td>\n",
       "      <td>-0.846254</td>\n",
       "    </tr>\n",
       "  </tbody>\n",
       "</table>\n",
       "<p>10348 rows × 19 columns</p>\n",
       "</div>"
      ],
      "text/plain": [
       "             0        1         2         3         4         5         6   \\\n",
       "0     -0.873076 -0.39995  1.290329 -0.523667 -1.109340 -2.969484  0.095320   \n",
       "1      1.145376 -0.39995 -0.774996 -0.523667  0.271362  0.336759 -0.983858   \n",
       "2      1.145376 -0.39995 -0.774996 -0.523667 -1.067500  0.336759 -0.983858   \n",
       "3      1.145376 -0.39995 -0.774996 -0.523667  0.731596 -2.969484  0.095320   \n",
       "4     -0.873076 -0.39995 -0.774996 -0.523667 -1.067500  0.336759 -0.983858   \n",
       "...         ...      ...       ...       ...       ...       ...       ...   \n",
       "10343  1.145376 -0.39995  1.290329 -0.523667 -0.941982  0.336759  1.174497   \n",
       "10344 -0.873076 -0.39995 -0.774996 -0.523667 -1.025661  0.336759 -0.983858   \n",
       "10345 -0.873076 -0.39995  1.290329 -0.523667 -0.398069  0.336759  0.095320   \n",
       "10346 -0.873076 -0.39995 -0.774996 -0.523667  0.145844  0.336759  1.174497   \n",
       "10347 -0.873076 -0.39995 -0.774996 -0.523667 -1.025661  0.336759 -0.983858   \n",
       "\n",
       "             7         8         9         10        11        12        13  \\\n",
       "0     -1.246539 -0.753230  1.445285 -0.893623 -0.762387 -1.032258 -1.038461   \n",
       "1     -1.246539  1.729862 -0.886278  1.444483 -0.762387 -1.032258 -1.038461   \n",
       "2     -1.246539  1.729862  1.445285 -0.893623 -0.762387 -1.032258 -1.038461   \n",
       "3     -1.246539  1.729862 -0.886278  1.444483  1.707613 -1.032258 -1.038461   \n",
       "4      0.233404 -0.753230 -0.886278 -0.893623 -0.762387 -1.032258 -1.038461   \n",
       "...         ...       ...       ...       ...       ...       ...       ...   \n",
       "10343  0.233404 -0.753230  1.445285 -0.893623 -0.762387 -1.032258 -1.038461   \n",
       "10344  0.233404 -0.753230 -0.886278 -0.893623 -0.762387  0.095228 -1.038461   \n",
       "10345  0.233404  0.488316 -0.886278  0.275430 -0.762387 -1.032258 -1.038461   \n",
       "10346  0.233404 -0.753230 -0.886278 -0.893623 -0.762387 -1.032258  0.086421   \n",
       "10347 -1.246539 -0.753230 -0.886278 -0.893623 -0.762387 -1.032258  0.086421   \n",
       "\n",
       "             14        15        16        17        18  \n",
       "0     -0.640099  0.833336  0.445942 -1.333860 -0.923346  \n",
       "1      0.672574 -1.199996  1.449991 -0.387344 -0.065655  \n",
       "2     -0.640099  0.833336  1.449991 -0.495617 -0.887233  \n",
       "3      0.672574 -1.199996 -1.562155 -0.899021 -0.088139  \n",
       "4     -0.640099  0.833336  0.445942  0.092900 -0.867170  \n",
       "...         ...       ...       ...       ...       ...  \n",
       "10343 -0.640099  0.833336  0.445942  0.433778 -0.745749  \n",
       "10344 -0.640099 -1.199996 -0.558107  0.355682 -0.813339  \n",
       "10345 -0.640099  0.833336 -1.562155  0.414169 -0.260889  \n",
       "10346 -0.640099 -1.199996 -0.558107  0.719367  0.331806  \n",
       "10347 -0.640099 -1.199996 -0.558107 -0.466280 -0.846254  \n",
       "\n",
       "[10348 rows x 19 columns]"
      ]
     },
     "execution_count": 43,
     "metadata": {},
     "output_type": "execute_result"
    }
   ],
   "source": [
    "X = pd.DataFrame(df_st)\n",
    "X"
   ]
  },
  {
   "cell_type": "code",
   "execution_count": 44,
   "id": "6565a079",
   "metadata": {},
   "outputs": [],
   "source": [
    "df = df_st.copy()"
   ]
  },
  {
   "cell_type": "code",
   "execution_count": 45,
   "id": "44c7d79d",
   "metadata": {},
   "outputs": [],
   "source": [
    "# Data split"
   ]
  },
  {
   "cell_type": "code",
   "execution_count": 46,
   "id": "2434bd77",
   "metadata": {},
   "outputs": [],
   "source": [
    "X_train, X_val , y_train , y_val = train_test_split(X, y , train_size=0.8 , random_state=SEED)\n",
    "skf = StratifiedKFold(n_splits=7, shuffle=True, random_state=SEED)"
   ]
  },
  {
   "cell_type": "markdown",
   "id": "45dda78b",
   "metadata": {},
   "source": [
    "## Logestic regression"
   ]
  },
  {
   "cell_type": "code",
   "execution_count": 47,
   "id": "5c0921e8",
   "metadata": {},
   "outputs": [],
   "source": [
    "logr = LogisticRegression(random_state=SEED)\n",
    "cv = cross_validate(logr , X_train, y_train, cv =skf , scoring=\"accuracy\", return_estimator=True)\n",
    "model_logr = cv[\"estimator\"]"
   ]
  },
  {
   "cell_type": "code",
   "execution_count": 48,
   "id": "a416b61e",
   "metadata": {},
   "outputs": [
    {
     "name": "stdout",
     "output_type": "stream",
     "text": [
      "accuracy of Logestic regression is :80.06%\n"
     ]
    }
   ],
   "source": [
    "y_hats = [model.predict(X_val) for model in model_logr]\n",
    "y_hats\n",
    "acc_log = np.mean([accuracy_score(y_hat, y_val) for y_hat in y_hats])\n",
    "print( \"accuracy of Logestic regression is :\" f'{acc_log:0.2%}' )"
   ]
  },
  {
   "cell_type": "markdown",
   "id": "71e657bc",
   "metadata": {},
   "source": [
    "## Light Gradiant Boosting Model"
   ]
  },
  {
   "cell_type": "code",
   "execution_count": 49,
   "id": "17248b88",
   "metadata": {},
   "outputs": [],
   "source": [
    "lgbm = LGBMClassifier(random_state=SEED)\n",
    "cv = cross_validate(lgbm , X_train, y_train, cv =skf , scoring=\"accuracy\", return_estimator=True)\n",
    "model_lgbm = cv[\"estimator\"]"
   ]
  },
  {
   "cell_type": "code",
   "execution_count": 50,
   "id": "8dec01e5",
   "metadata": {},
   "outputs": [
    {
     "name": "stdout",
     "output_type": "stream",
     "text": [
      "accuracy of LGBM is : 84.08%\n"
     ]
    }
   ],
   "source": [
    "y_hats = [model.predict(X_val) for model in model_lgbm]\n",
    "acc_lgbm = np.mean([accuracy_score(y_hat, y_val) for y_hat in y_hats])\n",
    "print( \"accuracy of LGBM is :\",f'{acc_lgbm:0.2%}' )"
   ]
  },
  {
   "cell_type": "markdown",
   "id": "92711961",
   "metadata": {},
   "source": [
    "## eXterme Gradiant Boosting"
   ]
  },
  {
   "cell_type": "code",
   "execution_count": 51,
   "id": "242c6746",
   "metadata": {},
   "outputs": [],
   "source": [
    "xgb  = XGBClassifier(random_state=SEED)\n",
    "cv = cross_validate(xgb, X_train, y_train, cv =skf , scoring=\"accuracy\", return_estimator=True)\n",
    "model_xgb = cv[\"estimator\"]"
   ]
  },
  {
   "cell_type": "code",
   "execution_count": 52,
   "id": "0874bb38",
   "metadata": {},
   "outputs": [
    {
     "name": "stdout",
     "output_type": "stream",
     "text": [
      "accuracy of XGB is : 83.93%\n"
     ]
    }
   ],
   "source": [
    "y_hats = [model.predict(X_val) for model in model_xgb]\n",
    "acc_xgb = np.mean([accuracy_score(y_hat, y_val) for y_hat in y_hats])\n",
    "print( \"accuracy of XGB is :\",f'{acc_xgb:0.2%}' )"
   ]
  },
  {
   "cell_type": "markdown",
   "id": "202f9d97",
   "metadata": {},
   "source": [
    "## CatBoost"
   ]
  },
  {
   "cell_type": "code",
   "execution_count": 53,
   "id": "1c7e2eb2",
   "metadata": {},
   "outputs": [],
   "source": [
    "cat = CatBoostClassifier(random_state=SEED)\n",
    "cv = cross_validate(cat, X_train, y_train, cv =skf , scoring=\"accuracy\", return_estimator=True)\n",
    "model_cat = cv[\"estimator\"]\n",
    "clear_output(wait=False)"
   ]
  },
  {
   "cell_type": "code",
   "execution_count": 54,
   "id": "00b33577",
   "metadata": {},
   "outputs": [
    {
     "name": "stdout",
     "output_type": "stream",
     "text": [
      "accuracy of CatBoost is :84.42%\n"
     ]
    }
   ],
   "source": [
    "y_hats = [model.predict(X_val) for model in model_cat]\n",
    "acc_cat = np.mean([accuracy_score(y_hat, y_val) for y_hat in y_hats])\n",
    "print( \"accuracy of CatBoost is :\"f'{acc_cat:0.2%}')"
   ]
  },
  {
   "cell_type": "markdown",
   "id": "8ef1b665",
   "metadata": {},
   "source": [
    "## ExtraTree"
   ]
  },
  {
   "cell_type": "code",
   "execution_count": 55,
   "id": "4613218c",
   "metadata": {},
   "outputs": [],
   "source": [
    "extree = ExtraTreesClassifier(random_state=SEED)\n",
    "cv = cross_validate(extree, X_train, y_train, cv =skf , scoring=\"accuracy\", return_estimator=True)\n",
    "model_extree = cv[\"estimator\"]"
   ]
  },
  {
   "cell_type": "code",
   "execution_count": 56,
   "id": "05d18787",
   "metadata": {},
   "outputs": [
    {
     "name": "stdout",
     "output_type": "stream",
     "text": [
      "accuracy of extree is :83.17%\n"
     ]
    }
   ],
   "source": [
    "y_hats = [model.predict(X_val) for model in model_extree]\n",
    "acc_xtree = np.mean([accuracy_score(y_hat, y_val) for y_hat in y_hats])\n",
    "print( \"accuracy of extree is :\"f'{acc_xtree:0.2%}' )"
   ]
  },
  {
   "cell_type": "markdown",
   "id": "8a4c8cfe",
   "metadata": {},
   "source": [
    "## RandomForest"
   ]
  },
  {
   "cell_type": "code",
   "execution_count": 57,
   "id": "f2784436",
   "metadata": {},
   "outputs": [],
   "source": [
    "rf = RandomForestClassifier()\n",
    "cv = cross_validate(rf, X_train, y_train, cv =skf , scoring=\"accuracy\", return_estimator=True)\n",
    "model_rf = cv[\"estimator\"]"
   ]
  },
  {
   "cell_type": "code",
   "execution_count": 58,
   "id": "5934814e",
   "metadata": {},
   "outputs": [
    {
     "name": "stdout",
     "output_type": "stream",
     "text": [
      "accuracy of RandomForest is :84.67%\n"
     ]
    }
   ],
   "source": [
    "y_hats = [model.predict(X_val) for model in model_rf]\n",
    "acc_rf = np.mean([accuracy_score(y_hat, y_val) for y_hat in y_hats])\n",
    "print( \"accuracy of RandomForest is :\"f'{acc_rf:0.2%}' )"
   ]
  },
  {
   "cell_type": "markdown",
   "id": "1d2e8a6e",
   "metadata": {},
   "source": [
    "## Gradiant Boosting"
   ]
  },
  {
   "cell_type": "code",
   "execution_count": 59,
   "id": "adf88068",
   "metadata": {},
   "outputs": [],
   "source": [
    "gbm = GradientBoostingClassifier(random_state=SEED)\n",
    "cv = cross_validate(gbm, X_train, y_train, cv =skf , scoring=\"accuracy\", return_estimator=True)\n",
    "model_gbm = cv[\"estimator\"]"
   ]
  },
  {
   "cell_type": "code",
   "execution_count": 60,
   "id": "1fc47573",
   "metadata": {},
   "outputs": [
    {
     "name": "stdout",
     "output_type": "stream",
     "text": [
      "accuracy of Gradiant Boosting is: 82.68%\n"
     ]
    }
   ],
   "source": [
    "y_hats = [model.predict(X_val) for model in model_gbm]\n",
    "acc_gbm = np.mean([accuracy_score(y_hat, y_val) for y_hat in y_hats])\n",
    "print( \"accuracy of Gradiant Boosting is: \"f'{acc_gbm:0.2%}' )"
   ]
  },
  {
   "cell_type": "markdown",
   "id": "23cd34db",
   "metadata": {},
   "source": [
    "## The Results"
   ]
  },
  {
   "cell_type": "code",
   "execution_count": 61,
   "id": "a620637c",
   "metadata": {},
   "outputs": [
    {
     "name": "stdout",
     "output_type": "stream",
     "text": [
      "accuracy of Logestic regression is:80.06%\n",
      "accuracy of LGBM is:84.08%\n",
      "accuracy of CatBoost is: 84.42%\n",
      "accuracy of extree is: 83.17%\n",
      "accuracy of RandomForest is: 84.67%\n",
      "accuracy of Gradiant Boosting is: 82.68%\n"
     ]
    }
   ],
   "source": [
    "print( \"accuracy of Logestic regression is:\" f'{acc_log:0.2%}')\n",
    "print( \"accuracy of LGBM is:\" f'{acc_lgbm:0.2%}')\n",
    "print( \"accuracy of CatBoost is: \"f'{acc_cat:0.2%}')\n",
    "print( \"accuracy of extree is: \"f'{acc_xtree:0.2%}')\n",
    "print( \"accuracy of RandomForest is: \"f'{acc_rf:0.2%}')\n",
    "print( \"accuracy of Gradiant Boosting is: \"f'{acc_gbm:0.2%}')"
   ]
  }
 ],
 "metadata": {
  "kernelspec": {
   "display_name": "Python 3 (ipykernel)",
   "language": "python",
   "name": "python3"
  },
  "language_info": {
   "codemirror_mode": {
    "name": "ipython",
    "version": 3
   },
   "file_extension": ".py",
   "mimetype": "text/x-python",
   "name": "python",
   "nbconvert_exporter": "python",
   "pygments_lexer": "ipython3",
   "version": "3.9.13"
  }
 },
 "nbformat": 4,
 "nbformat_minor": 5
}
